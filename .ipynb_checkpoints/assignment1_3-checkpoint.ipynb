{
 "cells": [
  {
   "cell_type": "code",
   "execution_count": 1,
   "id": "985972f5-fd59-4091-84fd-5b595df92360",
   "metadata": {},
   "outputs": [],
   "source": [
    "import numpy as np\n",
    "import pandas as pd\n",
    "import matplotlib.pyplot as plt\n",
    "%matplotlib inline\n",
    "import seaborn as sns\n",
    "import math"
   ]
  },
  {
   "cell_type": "code",
   "execution_count": 2,
   "id": "197fd412-325a-4f37-a0a2-2aa8e1911db3",
   "metadata": {},
   "outputs": [],
   "source": [
    "df=pd.read_csv('House_price.csv')"
   ]
  },
  {
   "cell_type": "code",
   "execution_count": 5,
   "id": "803d304d-251e-4e60-bb29-e91d635145e0",
   "metadata": {},
   "outputs": [
    {
     "data": {
      "text/plain": [
       "id                                       0\n",
       "Date                                     0\n",
       "number of bedrooms                       0\n",
       "number of bathrooms                      0\n",
       "living area                              0\n",
       "lot area                                 0\n",
       "number of floors                         0\n",
       "waterfront present                       0\n",
       "number of views                          0\n",
       "condition of the house                   0\n",
       "grade of the house                       0\n",
       "Area of the house(excluding basement)    0\n",
       "Area of the basement                     0\n",
       "Built Year                               0\n",
       "Renovation Year                          0\n",
       "Postal Code                              0\n",
       "Lattitude                                0\n",
       "Longitude                                0\n",
       "living_area_renov                        0\n",
       "lot_area_renov                           0\n",
       "Number of schools nearby                 0\n",
       "Distance from the airport                0\n",
       "Price                                    0\n",
       "dtype: int64"
      ]
     },
     "execution_count": 5,
     "metadata": {},
     "output_type": "execute_result"
    }
   ],
   "source": [
    "df.isnull().sum()"
   ]
  },
  {
   "cell_type": "code",
   "execution_count": 6,
   "id": "03f178dd-ad39-4a67-a488-6369922a964c",
   "metadata": {},
   "outputs": [
    {
     "data": {
      "text/plain": [
       "0"
      ]
     },
     "execution_count": 6,
     "metadata": {},
     "output_type": "execute_result"
    }
   ],
   "source": [
    "df.isnull().sum().sum()"
   ]
  },
  {
   "cell_type": "code",
   "execution_count": 7,
   "id": "10a0aecc-0a11-476c-983f-c6e18bf983fa",
   "metadata": {},
   "outputs": [
    {
     "data": {
      "text/plain": [
       "id                                       0\n",
       "Date                                     0\n",
       "number of bedrooms                       0\n",
       "number of bathrooms                      0\n",
       "living area                              0\n",
       "lot area                                 0\n",
       "number of floors                         0\n",
       "waterfront present                       0\n",
       "number of views                          0\n",
       "condition of the house                   0\n",
       "grade of the house                       0\n",
       "Area of the house(excluding basement)    0\n",
       "Area of the basement                     0\n",
       "Built Year                               0\n",
       "Renovation Year                          0\n",
       "Postal Code                              0\n",
       "Lattitude                                0\n",
       "Longitude                                0\n",
       "living_area_renov                        0\n",
       "lot_area_renov                           0\n",
       "Number of schools nearby                 0\n",
       "Distance from the airport                0\n",
       "Price                                    0\n",
       "dtype: int64"
      ]
     },
     "execution_count": 7,
     "metadata": {},
     "output_type": "execute_result"
    }
   ],
   "source": [
    "#deleting\n",
    "df2=df.dropna()\n",
    "df2.isnull().sum()"
   ]
  },
  {
   "cell_type": "code",
   "execution_count": 8,
   "id": "67c2df94-e5ab-4fbc-8ab1-0a5056c55746",
   "metadata": {},
   "outputs": [],
   "source": [
    "#imputing Missing Values\n",
    "df3 = df.fillna(0)"
   ]
  },
  {
   "cell_type": "code",
   "execution_count": 9,
   "id": "eb40ee27-c90e-4a35-a236-3f2415bde947",
   "metadata": {},
   "outputs": [
    {
     "data": {
      "text/plain": [
       "id                                       0\n",
       "Date                                     0\n",
       "number of bedrooms                       0\n",
       "number of bathrooms                      0\n",
       "living area                              0\n",
       "lot area                                 0\n",
       "number of floors                         0\n",
       "waterfront present                       0\n",
       "number of views                          0\n",
       "condition of the house                   0\n",
       "grade of the house                       0\n",
       "Area of the house(excluding basement)    0\n",
       "Area of the basement                     0\n",
       "Built Year                               0\n",
       "Renovation Year                          0\n",
       "Postal Code                              0\n",
       "Lattitude                                0\n",
       "Longitude                                0\n",
       "living_area_renov                        0\n",
       "lot_area_renov                           0\n",
       "Number of schools nearby                 0\n",
       "Distance from the airport                0\n",
       "Price                                    0\n",
       "dtype: int64"
      ]
     },
     "execution_count": 9,
     "metadata": {},
     "output_type": "execute_result"
    }
   ],
   "source": [
    "df3.isnull().sum()"
   ]
  },
  {
   "cell_type": "code",
   "execution_count": null,
   "id": "8b54ae83-83ee-418e-8753-27083b2bb6e3",
   "metadata": {},
   "outputs": [],
   "source": [
    "#Replace the missing values for numerical columns with mean\n"
   ]
  }
 ],
 "metadata": {
  "kernelspec": {
   "display_name": "Python 3 (ipykernel)",
   "language": "python",
   "name": "python3"
  },
  "language_info": {
   "codemirror_mode": {
    "name": "ipython",
    "version": 3
   },
   "file_extension": ".py",
   "mimetype": "text/x-python",
   "name": "python",
   "nbconvert_exporter": "python",
   "pygments_lexer": "ipython3",
   "version": "3.9.13"
  }
 },
 "nbformat": 4,
 "nbformat_minor": 5
}
